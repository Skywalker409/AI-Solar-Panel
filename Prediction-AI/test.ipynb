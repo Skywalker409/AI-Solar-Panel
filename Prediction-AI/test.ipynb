{
 "cells": [
  {
   "cell_type": "code",
   "execution_count": 2,
   "metadata": {},
   "outputs": [],
   "source": [
    "# database\n",
    "database_name = \"oedi_pvdaq\"\n",
    "\n",
    "# tables\n",
    "inverters_table = \"pvdaq_parquet_inverters\"\n",
    "meters_table = \"pvdaq_parquet_meters\"\n",
    "metrics_table = \"pvdaq_parquet_metrics\"\n",
    "modules_table = \"pvdaq_parquet_modules\"\n",
    "mount_table = \"pvdaq_parquet_mount\"\n",
    "other_instruments_table = \"pvdaq_parquet_other_instruments\"\n",
    "pvdata_table = \"pvdaq_parquet_pvdata\"\n",
    "site_table = \"pvdaq_parquet_site\"\n",
    "system_table = \"pvdaq_parquet_system\"\n",
    "\n",
    "staging_location = \"s3://nrel-tests/pvdaq/\""
   ]
  },
  {
   "cell_type": "code",
   "execution_count": 3,
   "metadata": {},
   "outputs": [
    {
     "ename": "ModuleNotFoundError",
     "evalue": "No module named 'oedi.AWS'",
     "output_type": "error",
     "traceback": [
      "\u001b[31m---------------------------------------------------------------------------\u001b[39m",
      "\u001b[31mModuleNotFoundError\u001b[39m                       Traceback (most recent call last)",
      "\u001b[36mCell\u001b[39m\u001b[36m \u001b[39m\u001b[32mIn[3]\u001b[39m\u001b[32m, line 1\u001b[39m\n\u001b[32m----> \u001b[39m\u001b[32m1\u001b[39m \u001b[38;5;28;01mfrom\u001b[39;00m\u001b[38;5;250m \u001b[39m\u001b[34;01moedi\u001b[39;00m\u001b[34;01m.\u001b[39;00m\u001b[34;01mAWS\u001b[39;00m\u001b[34;01m.\u001b[39;00m\u001b[34;01mglue\u001b[39;00m\u001b[38;5;250m \u001b[39m\u001b[38;5;28;01mimport\u001b[39;00m OEDIGlue\n",
      "\u001b[31mModuleNotFoundError\u001b[39m: No module named 'oedi.AWS'"
     ]
    }
   ],
   "source": [
    "from oedi.AWS.glue import OEDIGlue"
   ]
  }
 ],
 "metadata": {
  "kernelspec": {
   "display_name": "Python 3",
   "language": "python",
   "name": "python3"
  },
  "language_info": {
   "codemirror_mode": {
    "name": "ipython",
    "version": 3
   },
   "file_extension": ".py",
   "mimetype": "text/x-python",
   "name": "python",
   "nbconvert_exporter": "python",
   "pygments_lexer": "ipython3",
   "version": "3.11.9"
  }
 },
 "nbformat": 4,
 "nbformat_minor": 2
}
